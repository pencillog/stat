{
  "cells": [
    {
      "cell_type": "markdown",
      "metadata": {
        "id": "H-OhPOi5vOYw"
      },
      "source": [
        "# Central Limit Theorem"
      ]
    },
    {
      "cell_type": "code",
      "execution_count": null,
      "metadata": {
        "colab": {
          "base_uri": "https://localhost:8080/"
        },
        "id": "hviUehaWifUs",
        "outputId": "3d2114de-e313-41a1-d56d-2525fa2bf51d"
      },
      "outputs": [
        {
          "output_type": "stream",
          "name": "stdout",
          "text": [
            "  Installing build dependencies ... \u001b[?25l\u001b[?25hdone\n",
            "  Getting requirements to build wheel ... \u001b[?25l\u001b[?25hdone\n",
            "  Preparing metadata (pyproject.toml) ... \u001b[?25l\u001b[?25hdone\n",
            "  Installing build dependencies ... \u001b[?25l\u001b[?25hdone\n",
            "  Getting requirements to build wheel ... \u001b[?25l\u001b[?25hdone\n",
            "  Preparing metadata (pyproject.toml) ... \u001b[?25l\u001b[?25hdone\n",
            "  Installing build dependencies ... \u001b[?25l\u001b[?25hdone\n",
            "  Getting requirements to build wheel ... \u001b[?25l\u001b[?25hdone\n",
            "  Preparing metadata (pyproject.toml) ... \u001b[?25l\u001b[?25hdone\n",
            "  Installing build dependencies ... \u001b[?25l\u001b[?25hdone\n",
            "  Getting requirements to build wheel ... \u001b[?25l\u001b[?25hdone\n",
            "  Preparing metadata (pyproject.toml) ... \u001b[?25l\u001b[?25hdone\n",
            "  Installing build dependencies ... \u001b[?25l\u001b[?25hdone\n",
            "  Getting requirements to build wheel ... \u001b[?25l\u001b[?25hdone\n",
            "  Preparing metadata (pyproject.toml) ... \u001b[?25l\u001b[?25hdone\n",
            "  Installing build dependencies ... \u001b[?25l\u001b[?25hdone\n",
            "  Getting requirements to build wheel ... \u001b[?25l\u001b[?25hdone\n",
            "  Preparing metadata (pyproject.toml) ... \u001b[?25l\u001b[?25hdone\n",
            "  Preparing metadata (setup.py) ... \u001b[?25l\u001b[?25hdone\n",
            "  Preparing metadata (setup.py) ... \u001b[?25l\u001b[?25hdone\n",
            "  Preparing metadata (setup.py) ... \u001b[?25l\u001b[?25hdone\n",
            "  Preparing metadata (setup.py) ... \u001b[?25l\u001b[?25hdone\n",
            "  Preparing metadata (setup.py) ... \u001b[?25l\u001b[?25hdone\n"
          ]
        }
      ],
      "source": [
        "import jax\n",
        "import jax.numpy as jnp\n",
        "import matplotlib.pyplot as plt\n",
        "import seaborn as sns\n",
        "\n",
        "try:\n",
        "    from probml_utils import savefig, latexify\n",
        "except ModuleNotFoundError:\n",
        "    %pip install -qq git+https://github.com/probml/probml-utils.git\n",
        "    from probml_utils import savefig, latexify"
      ]
    },
    {
      "cell_type": "code",
      "execution_count": null,
      "metadata": {
        "colab": {
          "base_uri": "https://localhost:8080/"
        },
        "id": "soWNeVQhlKXE",
        "outputId": "a2d47577-2276-469b-c33e-01b3c6f82d01"
      },
      "outputs": [
        {
          "name": "stderr",
          "output_type": "stream",
          "text": [
            "/usr/local/lib/python3.7/dist-packages/probml_utils/plotting.py:26: UserWarning: LATEXIFY environment variable not set, not latexifying\n",
            "  warnings.warn(\"LATEXIFY environment variable not set, not latexifying\")\n"
          ]
        }
      ],
      "source": [
        "latexify(width_scale_factor=2, fig_height=1.85)"
      ]
    },
    {
      "cell_type": "code",
      "execution_count": null,
      "metadata": {
        "id": "8qKbn5n2mquU"
      },
      "outputs": [],
      "source": [
        "def calcMean(keys, N):\n",
        "    # Generates N random numbers from 1 to 5 and calculates their mean.\n",
        "    x = jnp.mean(jax.random.beta(keys, 1, 5, [1, N]))\n",
        "    return x"
      ]
    },
    {
      "cell_type": "code",
      "execution_count": null,
      "metadata": {
        "id": "75cDaL5BjHkw"
      },
      "outputs": [],
      "source": [
        "def plot_convolutionHist(mean_list, N, sampleSize, bins):\n",
        "    counts, nbinslocation = jnp.histogram(mean_list, bins=20)\n",
        "    counts = counts / (sampleSize / bins)\n",
        "\n",
        "    plt.figure()\n",
        "    plt.title(f\"N = {N}\")\n",
        "    plt.bar(nbinslocation[:-1], counts, width=0.02, color=\"black\", align=\"edge\")\n",
        "\n",
        "    plt.xticks(jnp.linspace(0, 1, 3))\n",
        "    plt.yticks(jnp.linspace(0, 3, 4))\n",
        "    plt.xlim(0, 1)\n",
        "    plt.ylim(0, 3)\n",
        "    plt.xlabel(\"$bins$\")\n",
        "    plt.ylabel(\"$Frequency\\ (\\mu)$\")\n",
        "    sns.despine()\n",
        "    savefig(f\"clt_N_{N}\")"
      ]
    },
    {
      "cell_type": "code",
      "execution_count": null,
      "metadata": {
        "id": "rYupguj8aqep"
      },
      "outputs": [],
      "source": [
        "key = jax.random.PRNGKey(1)\n",
        "keys = jax.random.split(key, num=10000)"
      ]
    },
    {
      "cell_type": "code",
      "execution_count": null,
      "metadata": {
        "colab": {
          "base_uri": "https://localhost:8080/",
          "height": 612
        },
        "id": "WQzGCN_ci0jD",
        "outputId": "7effea9b-cf4b-41eb-d9d6-6d7ba9e57fd8"
      },
      "outputs": [
        {
          "name": "stderr",
          "output_type": "stream",
          "text": [
            "/usr/local/lib/python3.7/dist-packages/probml_utils/plotting.py:79: UserWarning: set FIG_DIR environment variable to save figures\n",
            "  warnings.warn(\"set FIG_DIR environment variable to save figures\")\n"
          ]
        },
        {
          "data": {
            "image/png": "[encoded data removed]",
            "text/plain": [
              "<Figure size 432x288 with 1 Axes>"
            ]
          },
          "metadata": {
            "needs_background": "light"
          },
          "output_type": "display_data"
        },
        {
          "data": {
            "image/png": "[encoded data removed]",
            "text/plain": [
              "<Figure size 432x288 with 1 Axes>"
            ]
          },
          "metadata": {
            "needs_background": "light"
          },
          "output_type": "display_data"
        }
      ],
      "source": [
        "sampleSize = 10000\n",
        "bins = 20\n",
        "N_array = [1, 5]\n",
        "for N in N_array:\n",
        "    means = jax.vmap(calcMean, in_axes=(0, None), out_axes=0)\n",
        "    out = means(keys, N)\n",
        "    plot_convolutionHist(out, N, sampleSize, bins)"
      ]
    },
    {
      "cell_type": "code",
      "execution_count": null,
      "metadata": {
        "id": "APCNtmZQsAS7"
      },
      "outputs": [],
      "source": [
        "from ipywidgets import interact\n",
        "\n",
        "\n",
        "@interact(N_value=(1, 10))\n",
        "def generate_random(N_value):\n",
        "    sampleSize = 100000\n",
        "    bins = 20\n",
        "    means = jax.vmap(calcMean, in_axes=(0, None), out_axes=0)\n",
        "    out = means(keys, N_value)\n",
        "    plot_convolutionHist(out, N_value, sampleSize, bins)"
      ]
    },
    {
      "cell_type": "code",
      "execution_count": null,
      "metadata": {
        "id": "VjNDZLJCoqPU"
      },
      "outputs": [],
      "source": []
    }
  ],
  "metadata": {
    "colab": {
      "name": "centralLimitDemo.ipynb",
      "provenance": []
    },
    "kernelspec": {
      "display_name": "Python 3",
      "name": "python3"
    },
    "language_info": {
      "name": "python"
    }
  },
  "nbformat": 4,
  "nbformat_minor": 0
}